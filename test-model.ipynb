{
 "metadata": {
  "language_info": {
   "codemirror_mode": {
    "name": "ipython",
    "version": 3
   },
   "file_extension": ".py",
   "mimetype": "text/x-python",
   "name": "python",
   "nbconvert_exporter": "python",
   "pygments_lexer": "ipython3",
   "version": "3.6.12"
  },
  "orig_nbformat": 2,
  "kernelspec": {
   "name": "python3612jvsc74a57bd0fefd83eafc0c2f3c8796de3f6632c2698dc12eafcdd46e5a8c965eb3d21b0b49",
   "display_name": "Python 3.6.12 64-bit ('env0': conda)"
  }
 },
 "nbformat": 4,
 "nbformat_minor": 2,
 "cells": [
  {
   "cell_type": "code",
   "execution_count": 5,
   "source": [
    "import tensorflow as tf\r\n",
    "import re\r\n",
    "from tensorflow.keras.preprocessing.text import Tokenizer "
   ],
   "outputs": [],
   "metadata": {}
  },
  {
   "cell_type": "code",
   "execution_count": 6,
   "source": [
    "model = tf.keras.models.load_model('models/RNN.h5')"
   ],
   "outputs": [],
   "metadata": {}
  },
  {
   "cell_type": "code",
   "execution_count": 129,
   "source": [
    "text = ' Canadian goose runs through a mall and causes World War 3: Last night, a goose by the name of gary became a menace to society, he walked into square one and caused $500,000 in damages.'"
   ],
   "outputs": [],
   "metadata": {}
  },
  {
   "cell_type": "code",
   "execution_count": 130,
   "source": [
    "def normalize(data):\r\n",
    "    normalized = []\r\n",
    "    for i in data:\r\n",
    "        i = i.lower()\r\n",
    "        i = re.sub('https?://\\S+|www\\.\\S+', '', i)\r\n",
    "        i = re.sub('\\\\W', ' ', i)\r\n",
    "        i = re.sub('\\n', '', i)\r\n",
    "        i = re.sub(' +', ' ', i)\r\n",
    "        i = re.sub('^ ', '', i)\r\n",
    "        i = re.sub(' $', '', i)\r\n",
    "        normalized.append(i)\r\n",
    "    return normalized"
   ],
   "outputs": [],
   "metadata": {}
  },
  {
   "cell_type": "code",
   "execution_count": 131,
   "source": [
    "norman_text = normalize(text)\r\n",
    "len(norman_text)"
   ],
   "outputs": [
    {
     "output_type": "execute_result",
     "data": {
      "text/plain": [
       "185"
      ]
     },
     "metadata": {},
     "execution_count": 131
    }
   ],
   "metadata": {}
  },
  {
   "cell_type": "code",
   "execution_count": 132,
   "source": [
    "tokenizer = Tokenizer(num_words=10000)\r\n",
    "tokenizer.fit_on_texts(norman_text)"
   ],
   "outputs": [],
   "metadata": {}
  },
  {
   "cell_type": "code",
   "execution_count": 133,
   "source": [
    "final_data = tokenizer.texts_to_sequences(norman_text)\r\n",
    "final_data = tf.keras.preprocessing.sequence.pad_sequences(final_data, padding='post', maxlen=256)"
   ],
   "outputs": [],
   "metadata": {}
  },
  {
   "cell_type": "code",
   "execution_count": 134,
   "source": [
    "pred = model.predict(final_data)\r\n",
    "\r\n",
    "binary_preds = []\r\n",
    "\r\n",
    "for i in pred:\r\n",
    "    if i >= 0.5:\r\n",
    "        binary_preds.append(1)\r\n",
    "    else:\r\n",
    "        binary_preds.append(0) "
   ],
   "outputs": [],
   "metadata": {}
  },
  {
   "cell_type": "code",
   "execution_count": 135,
   "source": [
    "sum(binary_preds)"
   ],
   "outputs": [
    {
     "output_type": "execute_result",
     "data": {
      "text/plain": [
       "0"
      ]
     },
     "metadata": {},
     "execution_count": 135
    }
   ],
   "metadata": {}
  },
  {
   "cell_type": "code",
   "execution_count": 136,
   "source": [
    "sum(pred)"
   ],
   "outputs": [
    {
     "output_type": "execute_result",
     "data": {
      "text/plain": [
       "array([-551.1141], dtype=float32)"
      ]
     },
     "metadata": {},
     "execution_count": 136
    }
   ],
   "metadata": {}
  },
  {
   "cell_type": "code",
   "execution_count": null,
   "source": [],
   "outputs": [],
   "metadata": {}
  },
  {
   "cell_type": "code",
   "execution_count": null,
   "source": [],
   "outputs": [],
   "metadata": {}
  }
 ]
}